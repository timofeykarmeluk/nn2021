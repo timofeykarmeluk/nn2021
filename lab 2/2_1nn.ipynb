{
 "cells": [
  {
   "cell_type": "code",
   "execution_count": 15,
   "metadata": {
    "collapsed": true,
    "pycharm": {
     "name": "#%%\n"
    }
   },
   "outputs": [],
   "source": [
    "from sklearn import *\n",
    "import pandas as pd\n",
    "\n",
    "xy = datasets.make_regression(\n",
    "    n_samples=100000,\n",
    "    n_features=24,\n",
    "    n_informative=3,\n",
    "    n_targets=1,\n",
    "    noise = 0.6,\n",
    "    bias=10,\n",
    "    effective_rank = None,\n",
    "    tail_strength = 0.6,\n",
    "    shuffle = True,\n",
    "    coef = False,\n",
    "    random_state=15)\n",
    "\n",
    "\n",
    "df = pd.DataFrame(xy[0])\n",
    "df = df.add_prefix('x')\n",
    "df['y'] = xy[1]\n",
    "df.head()\n",
    "\n",
    "df.to_csv('2_1nn.csv', sep=';', index=False)"
   ]
  }
 ],
 "metadata": {
  "kernelspec": {
   "display_name": "Python 3",
   "language": "python",
   "name": "python3"
  },
  "language_info": {
   "codemirror_mode": {
    "name": "ipython",
    "version": 2
   },
   "file_extension": ".py",
   "mimetype": "text/x-python",
   "name": "python",
   "nbconvert_exporter": "python",
   "pygments_lexer": "ipython2",
   "version": "2.7.6"
  }
 },
 "nbformat": 4,
 "nbformat_minor": 0
}