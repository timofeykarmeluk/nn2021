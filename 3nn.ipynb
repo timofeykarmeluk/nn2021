{
 "cells": [
  {
   "cell_type": "code",
   "execution_count": 13,
   "outputs": [
    {
     "name": "stdout",
     "output_type": "stream",
     "text": [
      "y = 5x+9\n",
      "1.762424493376928e-16\n",
      "1.762424493376928e-16\n",
      "1.2848485120287023e-08\n"
     ]
    },
    {
     "data": {
      "text/plain": "<Figure size 432x288 with 1 Axes>",
      "image/png": "[encoded data removed]"
     },
     "metadata": {
      "needs_background": "light"
     },
     "output_type": "display_data"
    }
   ],
   "source": [
    "import matplotlib.pyplot as plt\n",
    "import numpy as np\n",
    "from sklearn.metrics import mean_squared_error\n",
    "from sklearn.linear_model import LinearRegression\n",
    "from sklearn.metrics import mean_absolute_error\n",
    "from random import randint\n",
    "import csv\n",
    "\n",
    "print('y = 5x+9')\n",
    "\n",
    "x = [[0], [0.55555556], [1.11111111], [1.66666667], [2.22222222], [2.77777778], [3.33333333], [3.88888889], [4.44444444], [5]]\n",
    "y = [[9], [11.77777778], [14.55555556], [17.33333333], [20.11111111], [22.88888889], [25.66666667], [28.44444444], [31.22222222], [34]]\n",
    "\n",
    "plt.xlabel(\"x\")\n",
    "plt.ylabel(\"y\")\n",
    "plt.grid()\n",
    "plt.plot(x, y)\n",
    "\n",
    "linreg = LinearRegression()\n",
    "linreg.fit(x,y)\n",
    "y_hat = linreg.predict(x)\n",
    "\n",
    "MSE = mean_squared_error(y,y_hat)\n",
    "print(MSE)\n",
    "SSE = np.mean((y-y_hat)**2)\n",
    "print(SSE)\n",
    "MAE = mean_absolute_error(y, y_hat)\n",
    "print(MAE)\n",
    "\n",
    "head = ['x', 'y', 'y_hat', 'MAE', 'MSE']\n",
    "np.savetxt(\"3nn.csv\", x, delimiter=\",\")\n",
    "with open('3nn.csv', 'w', encoding='UTF8', newline='') as f:\n",
    "    csv.writer(f).writerow(head)\n",
    "    for i in range(10):\n",
    "        data = [x[i],y[i],y_hat[i],MAE,MSE]\n",
    "        csv.writer(f).writerow(data)"
   ],
   "metadata": {
    "collapsed": false,
    "pycharm": {
     "name": "#%%\n"
    }
   }
  },
  {
   "cell_type": "code",
   "execution_count": 8,
   "outputs": [],
   "source": [],
   "metadata": {
    "collapsed": false,
    "pycharm": {
     "name": "#%%\n"
    }
   }
  },
  {
   "cell_type": "code",
   "execution_count": null,
   "outputs": [],
   "source": [],
   "metadata": {
    "collapsed": false,
    "pycharm": {
     "name": "#%%\n"
    }
   }
  }
 ],
 "metadata": {
  "kernelspec": {
   "display_name": "Python 3",
   "language": "python",
   "name": "python3"
  },
  "language_info": {
   "codemirror_mode": {
    "name": "ipython",
    "version": 2
   },
   "file_extension": ".py",
   "mimetype": "text/x-python",
   "name": "python",
   "nbconvert_exporter": "python",
   "pygments_lexer": "ipython2",
   "version": "2.7.6"
  }
 },
 "nbformat": 4,
 "nbformat_minor": 0
}