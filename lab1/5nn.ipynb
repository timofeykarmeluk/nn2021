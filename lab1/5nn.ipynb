{
 "cells": [
  {
   "cell_type": "code",
   "execution_count": 10,
   "metadata": {
    "collapsed": true
   },
   "outputs": [
    {
     "name": "stdout",
     "output_type": "stream",
     "text": [
      "result: 0.7054980947196516\n",
      "#================================================\n",
      "result: 0.7105263157894737\n"
     ]
    }
   ],
   "source": [
    "import numpy as np\n",
    "from random import randint\n",
    "from sklearn import *\n",
    "from sklearn.linear_model import LinearRegression\n",
    "from sklearn.model_selection import train_test_split\n",
    "\n",
    "x = np.empty(100)\n",
    "y = np.empty(100)\n",
    "for i in range(100):\n",
    "    x[i] = randint(1,10)\n",
    "    if(x[i]<=5): y[i] = 10\n",
    "    else: y[i] = 20\n",
    "\n",
    "x = x.reshape((-1, 1))\n",
    "print('result:', LinearRegression().fit(x,y).score(x, y))\n",
    "\n",
    "print(\"#================================================\")\n",
    "\n",
    "X, Y = datasets.load_iris().data[:, :2], datasets.load_iris().target\n",
    "X_train, X_test, Y_train, Y_test = train_test_split(X, Y, random_state=randint(1,10))\n",
    "scaler = preprocessing.StandardScaler().fit(X_train)\n",
    "X_train = scaler.transform(X_train)\n",
    "X_test = scaler.transform(X_test)\n",
    "neighbors = neighbors.KNeighborsClassifier(n_neighbors=5)\n",
    "neighbors.fit(X_train, Y_train)\n",
    "print('result:', neighbors.score(X_test, Y_test))\n"
   ]
  },
  {
   "cell_type": "code",
   "execution_count": 10,
   "outputs": [],
   "source": [],
   "metadata": {
    "collapsed": false,
    "pycharm": {
     "name": "#%%\n"
    }
   }
  },
  {
   "cell_type": "code",
   "execution_count": 10,
   "outputs": [],
   "source": [],
   "metadata": {
    "collapsed": false,
    "pycharm": {
     "name": "#%%\n"
    }
   }
  },
  {
   "cell_type": "code",
   "execution_count": null,
   "outputs": [],
   "source": [],
   "metadata": {
    "collapsed": false,
    "pycharm": {
     "name": "#%%\n"
    }
   }
  }
 ],
 "metadata": {
  "kernelspec": {
   "display_name": "Python 3",
   "language": "python",
   "name": "python3"
  },
  "language_info": {
   "codemirror_mode": {
    "name": "ipython",
    "version": 2
   },
   "file_extension": ".py",
   "mimetype": "text/x-python",
   "name": "python",
   "nbconvert_exporter": "python",
   "pygments_lexer": "ipython2",
   "version": "2.7.6"
  }
 },
 "nbformat": 4,
 "nbformat_minor": 0
}