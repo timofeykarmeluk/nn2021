{
 "cells": [
  {
   "cell_type": "code",
   "execution_count": null,
   "metadata": {
    "collapsed": true
   },
   "outputs": [],
   "source": [
    "import numpy as np\n",
    "from random import randint\n",
    "from sklearn.linear_model import LinearRegression\n",
    "\n",
    "x = np.empty(100)\n",
    "y = np.empty(100)\n",
    "for i in range(100):\n",
    "    x[i] = randint(150,210) # Зріст від 150 до 210\n",
    "    if(x[i]>=150 and x[i]<=170):\n",
    "        y[i] = randint(50,65)\n",
    "    elif(x[i]>=171 and x[i]<=190):\n",
    "        y[i] = randint(66,90)\n",
    "    elif(x[i]>=191):\n",
    "        y[i] = randint(91,120) # Вага від 50 до 120\n",
    "\n",
    "X = x\n",
    "x = x.reshape((-1, 1))\n",
    "\n",
    "model = LinearRegression()\n",
    "model.fit(x,y)\n",
    "r_sq = model.score(x, y)\n",
    "print('coefficient of determination:', r_sq)\n",
    "y_pred = model.predict(x)\n",
    "\n",
    "import matplotlib.pyplot as plt\n",
    "plt.xlabel(\"Зріст\")\n",
    "plt.ylabel(\"Вага\")\n",
    "plt.grid()\n",
    "plt.plot(x, y,'ro', x, y_pred, 'ys')\n",
    "plt.show()"
   ]
  }
 ],
 "metadata": {
  "kernelspec": {
   "display_name": "Python 3",
   "language": "python",
   "name": "python3"
  },
  "language_info": {
   "codemirror_mode": {
    "name": "ipython",
    "version": 2
   },
   "file_extension": ".py",
   "mimetype": "text/x-python",
   "name": "python",
   "nbconvert_exporter": "python",
   "pygments_lexer": "ipython2",
   "version": "2.7.6"
  }
 },
 "nbformat": 4,
 "nbformat_minor": 0
}