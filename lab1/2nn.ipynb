{
 "cells": [
  {
   "cell_type": "code",
   "execution_count": 3,
   "metadata": {
    "collapsed": true
   },
   "outputs": [
    {
     "name": "stdout",
     "output_type": "stream",
     "text": [
      "    Brand    Model  HorsePower\n",
      "0  Toyota    Camry        1000\n",
      "1     BMW     740i         450\n",
      "2   Tesla  Model S         700\n",
      "Head\n",
      "    Brand  Model  HorsePower\n",
      "0  Toyota  Camry        1000\n",
      "Describe\n",
      "        HorsePower\n",
      "count     3.000000\n",
      "mean    716.666667\n",
      "std     275.378527\n",
      "min     450.000000\n",
      "25%     575.000000\n",
      "50%     700.000000\n",
      "75%     850.000000\n",
      "max    1000.000000\n",
      "Iloc\n",
      "Camry\n",
      "Loc\n",
      "Model S\n"
     ]
    }
   ],
   "source": [
    "import pandas as pd\n",
    "\n",
    "dataFrame = pd.DataFrame({\n",
    "     'Brand': ['Toyota', 'BMW', 'Tesla'],\n",
    "     'Model': ['Camry', '740i', 'Model S'],\n",
    "     'HorsePower': [1000, 450, 700]\n",
    "})\n",
    "print(dataFrame)\n",
    "print(\"Head\")\n",
    "print(dataFrame.head(1))\n",
    "print(\"Describe\")\n",
    "print(dataFrame.describe())\n",
    "print(\"Iloc\")\n",
    "print(dataFrame.iloc[0,1])\n",
    "print(\"Loc\")\n",
    "print(dataFrame.loc[2,'Model'])"
   ]
  },
  {
   "cell_type": "code",
   "execution_count": null,
   "outputs": [],
   "source": [],
   "metadata": {
    "collapsed": false,
    "pycharm": {
     "name": "#%%\n"
    }
   }
  }
 ],
 "metadata": {
  "kernelspec": {
   "display_name": "Python 3",
   "language": "python",
   "name": "python3"
  },
  "language_info": {
   "codemirror_mode": {
    "name": "ipython",
    "version": 2
   },
   "file_extension": ".py",
   "mimetype": "text/x-python",
   "name": "python",
   "nbconvert_exporter": "python",
   "pygments_lexer": "ipython2",
   "version": "2.7.6"
  }
 },
 "nbformat": 4,
 "nbformat_minor": 0
}