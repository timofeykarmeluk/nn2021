{
 "cells": [
  {
   "cell_type": "code",
   "execution_count": 6,
   "metadata": {
    "scrolled": false
   },
   "outputs": [
    {
     "name": "stdout",
     "output_type": "stream",
     "text": [
      "2.3\n",
      "<class 'float'>\n",
      "2.3\n",
      "True\n",
      "#================================================\n",
      "[1 2 3 4 5 6 7 8 9]\n",
      "<class 'numpy.ndarray'>\n",
      "[ 1  2  3  4  5  6  7  8  9 10]\n",
      "[ 1  2  4  5  6  7  8  9 10]\n",
      "#================================================\n",
      "[]\n",
      "[8, 3, 2, 9, 10, 4, 7, 5, 9, 3]\n",
      "[8, 3, 2, 9, 10, 4, 7, 5, 9]\n"
     ]
    }
   ],
   "source": [
    "import numpy as np\n",
    "from random import *\n",
    "\n",
    "scal = 2.3\n",
    "\n",
    "print(scal)\n",
    "print(type(scal))\n",
    "\n",
    "scal = '2.3'\n",
    "print(scal)\n",
    "print(np.isscalar(scal))\n",
    "\n",
    "del scal\n",
    "\n",
    "print(\"#================================================\")\n",
    "\n",
    "vect = np.arange(1,10,1)\n",
    "\n",
    "print(vect)\n",
    "print(type(vect))\n",
    "\n",
    "vect = np.append(vect, 10)\n",
    "print(vect)\n",
    "\n",
    "vect = np.delete(vect, vect[1])\n",
    "print(vect)\n",
    "del vect\n",
    "\n",
    "print(\"#================================================\")\n",
    "\n",
    "matrix = []\n",
    "\n",
    "print(matrix)\n",
    "\n",
    "maxrixSize = int(input('Matrix size'))\n",
    "while len(matrix) != maxrixSize:\n",
    "    value = randint(1,10)\n",
    "    matrix.append(value)\n",
    "print(matrix)\n",
    "\n",
    "matrix.pop(len(matrix)-1)\n",
    "print(matrix)\n"
   ]
  },
  {
   "cell_type": "code",
   "execution_count": null,
   "metadata": {},
   "outputs": [],
   "source": []
  }
 ],
 "metadata": {
  "kernelspec": {
   "display_name": "Python 3 (ipykernel)",
   "language": "python",
   "name": "python3"
  },
  "language_info": {
   "codemirror_mode": {
    "name": "ipython",
    "version": 3
   },
   "file_extension": ".py",
   "mimetype": "text/x-python",
   "name": "python",
   "nbconvert_exporter": "python",
   "pygments_lexer": "ipython3",
   "version": "3.9.9"
  }
 },
 "nbformat": 4,
 "nbformat_minor": 1
}