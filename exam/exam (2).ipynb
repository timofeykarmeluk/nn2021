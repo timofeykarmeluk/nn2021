{
 "cells": [
  {
   "cell_type": "markdown",
   "id": "b50c4f12",
   "metadata": {},
   "source": [
    "Кармелюк Тимофій Ігорович <br>\n",
    "Група: АнД-41 <br>\n",
    "16.12.2021"
   ]
  },
  {
   "cell_type": "markdown",
   "id": "1162e172",
   "metadata": {},
   "source": [
    "### Практичне завдання з дисципліни \"Нейронні мережі\"\n",
    "#### ВАРІАНТ: {6}\n"
   ]
  },
  {
   "cell_type": "markdown",
   "id": "6d2a044b",
   "metadata": {},
   "source": [
    "Практичне завдання з дисципліни <br>\n",
    "Нейронні мережі <br>\n",
    "ВАРІАНТ № {6} <br>\n",
    "Завдання: <br>\n",
    "Розробити Jupyter Notebook для вирішення завдання класифікації на основі наборів даних:\n",
    "- #1 {https://keras.io/api/datasets/cifar10/}\n",
    "- #2 ([https://drive.google.com/drive/folders/15MdqvRMl8YPFCbemyiLdUcX5SL4A5mx2?usp=sharing])\n",
    "\n",
    "Забезпечити виконання наступних етапів:\n",
    "1. Завантаження та попередній аналіз даних.\n",
    "2. Вирішення завдання класифікації для набору даних #1 з використанням Feed-forward NN. <br>\n",
    "    +.(для отримання оцінки \"добре\") +CNN.\n",
    "3. Вирішення завдання класифікації для набору даних #2 з використанням: <br>\n",
    "   3.1. CNN (Кількість фільтрів: {}, Метод оптимізації: {})<br>\n",
    "   3.2. Моделі {} репозиторію Tensorflow Hub<br>\n",
    "4.(для отримання оцінки \"відмінно\", за умови виконання п.2+) \n",
    "    Здійснити точне настроювання моделі 3.2 з використанням: {}           \n",
    "5. Графічне відображення тренування моделей.\n",
    "6. Порівняння отриманих результатів для набору даних #2.\n",
    "7. Висновки.\n",
    "\n",
    "Структура звітного документу:<br>\n",
    "Заголовок роботи (Markdown: П.І.Б., група, назва роботи (Практичне завдання іспиту з дисципліни...), дата складання.)<br>\n",
    "Етапи роботи (Номер та назва етапу (частини етапу),  код з коментарями.)<br>\n",
    "\n",
    "Використати технології: Tensorflow, Google Colab.<br>\n",
    "Результати викласти у форматі [your_surname].ipynb у папку Exam репозиторію GitHub."
   ]
  },
  {
   "cell_type": "code",
   "execution_count": 1,
   "id": "bcd11282",
   "metadata": {},
   "outputs": [],
   "source": [
    "import pandas as pd\n",
    "import numpy as np\n",
    "import tensorflow as tf\n",
    "import tensorflow_hub as hub\n",
    "import matplotlib.pyplot as plt\n",
    "\n",
    "%matplotlib inline"
   ]
  },
  {
   "cell_type": "code",
   "execution_count": 3,
   "id": "2001af11",
   "metadata": {},
   "outputs": [
    {
     "name": "stdout",
     "output_type": "stream",
     "text": [
      "Downloading data from https://www.cs.toronto.edu/~kriz/cifar-10-python.tar.gz\n",
      "170500096/170498071 [==============================] - 463s 3us/step\n",
      "170508288/170498071 [==============================] - 463s 3us/step\n"
     ]
    }
   ],
   "source": [
    "(x_train, y_train), (x_val, y_val) = tf.keras.datasets.cifar10.load_data()"
   ]
  },
  {
   "cell_type": "markdown",
   "id": "c0cc3ed6",
   "metadata": {},
   "source": [
    "#### Data analysis "
   ]
  },
  {
   "cell_type": "code",
   "execution_count": 20,
   "id": "e606f36e",
   "metadata": {},
   "outputs": [
    {
     "data": {
      "text/plain": "((50000, 32, 32, 3), (50000, 1))"
     },
     "execution_count": 20,
     "metadata": {},
     "output_type": "execute_result"
    }
   ],
   "source": [
    "x_train.shape, y_train.shape"
   ]
  },
  {
   "cell_type": "code",
   "execution_count": 58,
   "id": "1769607c",
   "metadata": {},
   "outputs": [
    {
     "data": {
      "text/plain": "{0, 1, 2, 3, 4, 5, 6, 7, 8, 9}"
     },
     "execution_count": 58,
     "metadata": {},
     "output_type": "execute_result"
    }
   ],
   "source": [
    "flat_y = [ item for elem in y_train for item in elem]\n",
    "flat_y_val = [ item for elem in y_val for item in elem]\n",
    "set(flat_y_val)"
   ]
  },
  {
   "cell_type": "markdown",
   "id": "48853c79",
   "metadata": {},
   "source": [
    "##### Encode target variables"
   ]
  },
  {
   "cell_type": "code",
   "execution_count": 59,
   "id": "11df94ad",
   "metadata": {},
   "outputs": [],
   "source": [
    "target_depth = len(set(flat_y))"
   ]
  },
  {
   "cell_type": "code",
   "execution_count": 60,
   "id": "c4d28bbd",
   "metadata": {},
   "outputs": [],
   "source": [
    "y_train_ohe = tf.one_hot(flat_y, target_depth)\n",
    "y_val_ohe = tf.one_hot(flat_y_val, target_depth)"
   ]
  },
  {
   "cell_type": "code",
   "execution_count": 62,
   "id": "8d00aafc",
   "metadata": {},
   "outputs": [
    {
     "data": {
      "text/plain": "<tf.Tensor: shape=(50000, 10), dtype=float32, numpy=\narray([[0., 0., 0., ..., 0., 0., 0.],\n       [0., 0., 0., ..., 0., 0., 1.],\n       [0., 0., 0., ..., 0., 0., 1.],\n       ...,\n       [0., 0., 0., ..., 0., 0., 1.],\n       [0., 1., 0., ..., 0., 0., 0.],\n       [0., 1., 0., ..., 0., 0., 0.]], dtype=float32)>"
     },
     "execution_count": 62,
     "metadata": {},
     "output_type": "execute_result"
    }
   ],
   "source": [
    "y_train_ohe"
   ]
  },
  {
   "cell_type": "code",
   "execution_count": 63,
   "id": "675e6430",
   "metadata": {},
   "outputs": [],
   "source": [
    "callbacks_list = [\n",
    "    tf.keras.callbacks.ReduceLROnPlateau(patience=2),\n",
    "    tf.keras.callbacks.TensorBoard(log_dir=\"./logs\")\n",
    "]"
   ]
  },
  {
   "cell_type": "code",
   "execution_count": 64,
   "id": "cc163e60",
   "metadata": {},
   "outputs": [],
   "source": [
    "def plotModelHistory(h):\n",
    "    fig, ax = plt.subplots(1, 2, figsize=(15,4))\n",
    "    ax[0].plot(h.history['loss'])   \n",
    "    ax[0].plot(h.history['val_loss'])\n",
    "    ax[0].legend(['loss','val_loss'])\n",
    "    ax[0].title.set_text(\"Train loss vs Validation loss\")\n",
    "\n",
    "    ax[1].plot(h.history['categorical_accuracy'])   \n",
    "    ax[1].plot(h.history['val_categorical_accuracy'])\n",
    "    ax[1].legend(['categorical_accuracy','val_categorical_accuracy'])\n",
    "    ax[1].title.set_text(\"Train accuracy vs Validation accuracy\")\n",
    "    plt.show()\n",
    "\n",
    "    print(\"Max. Training Accuracy\", max(h.history['categorical_accuracy']))\n",
    "    print(\"Max. Validaiton Accuracy\", max(h.history['val_categorical_accuracy']))"
   ]
  },
  {
   "cell_type": "markdown",
   "id": "85e80336",
   "metadata": {},
   "source": [
    "#### Feedforward Neural Network "
   ]
  },
  {
   "cell_type": "code",
   "execution_count": 65,
   "id": "5e9fc69c",
   "metadata": {},
   "outputs": [],
   "source": [
    "model1 = tf.keras.Sequential([\n",
    "    tf.keras.layers.Flatten(),\n",
    "    tf.keras.layers.Dense(64, activation='relu'),\n",
    "    tf.keras.layers.Dense(32, activation='relu'),\n",
    "    tf.keras.layers.Dense(target_depth, activation='softmax')\n",
    "])"
   ]
  },
  {
   "cell_type": "code",
   "execution_count": 66,
   "id": "29f241da",
   "metadata": {},
   "outputs": [
    {
     "name": "stdout",
     "output_type": "stream",
     "text": [
      "Epoch 1/5\n",
      "782/782 [==============================] - 5s 6ms/step - loss: 8.2610 - categorical_accuracy: 0.1072 - val_loss: 2.3068 - val_categorical_accuracy: 0.0996 - lr: 0.0010\n",
      "Epoch 2/5\n",
      "782/782 [==============================] - 4s 5ms/step - loss: 2.3046 - categorical_accuracy: 0.0993 - val_loss: 2.3040 - val_categorical_accuracy: 0.1000 - lr: 0.0010\n",
      "Epoch 3/5\n",
      "782/782 [==============================] - 4s 5ms/step - loss: 2.3037 - categorical_accuracy: 0.0987 - val_loss: 2.3032 - val_categorical_accuracy: 0.1003 - lr: 0.0010\n",
      "Epoch 4/5\n",
      "782/782 [==============================] - 4s 5ms/step - loss: 2.3037 - categorical_accuracy: 0.0981 - val_loss: 2.3027 - val_categorical_accuracy: 0.1002 - lr: 0.0010\n",
      "Epoch 5/5\n",
      "782/782 [==============================] - 4s 5ms/step - loss: 2.3034 - categorical_accuracy: 0.0989 - val_loss: 2.3033 - val_categorical_accuracy: 0.1000 - lr: 0.0010\n",
      "CPU times: user 48.9 s, sys: 7.5 s, total: 56.4 s\n",
      "Wall time: 21.6 s\n"
     ]
    }
   ],
   "source": [
    "%%time\n",
    "model1.compile(optimizer=tf.keras.optimizers.Adam(), \n",
    "               loss=tf.keras.losses.categorical_crossentropy, \n",
    "               metrics=tf.keras.metrics.CategoricalAccuracy())\n",
    "\n",
    "history1 = model1.fit(x_train, y_train_ohe,\n",
    "                      batch_size=64,\n",
    "                      epochs=5,\n",
    "                      validation_data=(x_val, y_val_ohe), \n",
    "                      callbacks=callbacks_list)"
   ]
  },
  {
   "cell_type": "code",
   "execution_count": 53,
   "id": "a6c10ed8",
   "metadata": {},
   "outputs": [
    {
     "data": {
      "text/plain": "<Figure size 1080x288 with 2 Axes>",
      "image/png": "[encoded data removed]"
     },
     "metadata": {
      "needs_background": "light"
     },
     "output_type": "display_data"
    },
    {
     "name": "stdout",
     "output_type": "stream",
     "text": [
      "Max. Training Accuracy 0.11388000100851059\n",
      "Max. Validaiton Accuracy 0.10209999978542328\n"
     ]
    }
   ],
   "source": [
    "plotModelHistory(history1)"
   ]
  },
  {
   "cell_type": "markdown",
   "id": "3afdc46e",
   "metadata": {},
   "source": [
    "#### CNN"
   ]
  },
  {
   "cell_type": "code",
   "execution_count": 71,
   "outputs": [
    {
     "ename": "ValueError",
     "evalue": "Input 0 of layer \"max_pooling2d_6\" is incompatible with the layer: expected ndim=4, found ndim=5. Full shape received: (None, 32, 32, 3, 32)",
     "output_type": "error",
     "traceback": [
      "\u001B[0;31m---------------------------------------------------------------------------\u001B[0m",
      "\u001B[0;31mValueError\u001B[0m                                Traceback (most recent call last)",
      "\u001B[0;32m/var/folders/r0/ks1cvn550f77ky2bmcmwmbdh0000gn/T/ipykernel_95820/2435835209.py\u001B[0m in \u001B[0;36m<module>\u001B[0;34m\u001B[0m\n\u001B[0;32m----> 1\u001B[0;31m model2 = tf.keras.Sequential([\n\u001B[0m\u001B[1;32m      2\u001B[0m     tf.keras.layers.Conv2D(filters=32,\n\u001B[1;32m      3\u001B[0m                            \u001B[0mkernel_size\u001B[0m\u001B[0;34m=\u001B[0m\u001B[0;34m(\u001B[0m\u001B[0;36m3\u001B[0m\u001B[0;34m,\u001B[0m \u001B[0;36m3\u001B[0m\u001B[0;34m)\u001B[0m\u001B[0;34m,\u001B[0m\u001B[0;34m\u001B[0m\u001B[0;34m\u001B[0m\u001B[0m\n\u001B[1;32m      4\u001B[0m                            \u001B[0mpadding\u001B[0m\u001B[0;34m=\u001B[0m\u001B[0;34m'same'\u001B[0m\u001B[0;34m,\u001B[0m\u001B[0;34m\u001B[0m\u001B[0;34m\u001B[0m\u001B[0m\n\u001B[1;32m      5\u001B[0m                            \u001B[0mactivation\u001B[0m\u001B[0;34m=\u001B[0m\u001B[0;34m'relu'\u001B[0m\u001B[0;34m,\u001B[0m\u001B[0;34m\u001B[0m\u001B[0;34m\u001B[0m\u001B[0m\n",
      "\u001B[0;32m/Library/Frameworks/Python.framework/Versions/3.9/lib/python3.9/site-packages/tensorflow/python/training/tracking/base.py\u001B[0m in \u001B[0;36m_method_wrapper\u001B[0;34m(self, *args, **kwargs)\u001B[0m\n\u001B[1;32m    528\u001B[0m     \u001B[0mself\u001B[0m\u001B[0;34m.\u001B[0m\u001B[0m_self_setattr_tracking\u001B[0m \u001B[0;34m=\u001B[0m \u001B[0;32mFalse\u001B[0m  \u001B[0;31m# pylint: disable=protected-access\u001B[0m\u001B[0;34m\u001B[0m\u001B[0;34m\u001B[0m\u001B[0m\n\u001B[1;32m    529\u001B[0m     \u001B[0;32mtry\u001B[0m\u001B[0;34m:\u001B[0m\u001B[0;34m\u001B[0m\u001B[0;34m\u001B[0m\u001B[0m\n\u001B[0;32m--> 530\u001B[0;31m       \u001B[0mresult\u001B[0m \u001B[0;34m=\u001B[0m \u001B[0mmethod\u001B[0m\u001B[0;34m(\u001B[0m\u001B[0mself\u001B[0m\u001B[0;34m,\u001B[0m \u001B[0;34m*\u001B[0m\u001B[0margs\u001B[0m\u001B[0;34m,\u001B[0m \u001B[0;34m**\u001B[0m\u001B[0mkwargs\u001B[0m\u001B[0;34m)\u001B[0m\u001B[0;34m\u001B[0m\u001B[0;34m\u001B[0m\u001B[0m\n\u001B[0m\u001B[1;32m    531\u001B[0m     \u001B[0;32mfinally\u001B[0m\u001B[0;34m:\u001B[0m\u001B[0;34m\u001B[0m\u001B[0;34m\u001B[0m\u001B[0m\n\u001B[1;32m    532\u001B[0m       \u001B[0mself\u001B[0m\u001B[0;34m.\u001B[0m\u001B[0m_self_setattr_tracking\u001B[0m \u001B[0;34m=\u001B[0m \u001B[0mprevious_value\u001B[0m  \u001B[0;31m# pylint: disable=protected-access\u001B[0m\u001B[0;34m\u001B[0m\u001B[0;34m\u001B[0m\u001B[0m\n",
      "\u001B[0;32m/Library/Frameworks/Python.framework/Versions/3.9/lib/python3.9/site-packages/keras/utils/traceback_utils.py\u001B[0m in \u001B[0;36merror_handler\u001B[0;34m(*args, **kwargs)\u001B[0m\n\u001B[1;32m     65\u001B[0m     \u001B[0;32mexcept\u001B[0m \u001B[0mException\u001B[0m \u001B[0;32mas\u001B[0m \u001B[0me\u001B[0m\u001B[0;34m:\u001B[0m  \u001B[0;31m# pylint: disable=broad-except\u001B[0m\u001B[0;34m\u001B[0m\u001B[0;34m\u001B[0m\u001B[0m\n\u001B[1;32m     66\u001B[0m       \u001B[0mfiltered_tb\u001B[0m \u001B[0;34m=\u001B[0m \u001B[0m_process_traceback_frames\u001B[0m\u001B[0;34m(\u001B[0m\u001B[0me\u001B[0m\u001B[0;34m.\u001B[0m\u001B[0m__traceback__\u001B[0m\u001B[0;34m)\u001B[0m\u001B[0;34m\u001B[0m\u001B[0;34m\u001B[0m\u001B[0m\n\u001B[0;32m---> 67\u001B[0;31m       \u001B[0;32mraise\u001B[0m \u001B[0me\u001B[0m\u001B[0;34m.\u001B[0m\u001B[0mwith_traceback\u001B[0m\u001B[0;34m(\u001B[0m\u001B[0mfiltered_tb\u001B[0m\u001B[0;34m)\u001B[0m \u001B[0;32mfrom\u001B[0m \u001B[0;32mNone\u001B[0m\u001B[0;34m\u001B[0m\u001B[0;34m\u001B[0m\u001B[0m\n\u001B[0m\u001B[1;32m     68\u001B[0m     \u001B[0;32mfinally\u001B[0m\u001B[0;34m:\u001B[0m\u001B[0;34m\u001B[0m\u001B[0;34m\u001B[0m\u001B[0m\n\u001B[1;32m     69\u001B[0m       \u001B[0;32mdel\u001B[0m \u001B[0mfiltered_tb\u001B[0m\u001B[0;34m\u001B[0m\u001B[0;34m\u001B[0m\u001B[0m\n",
      "\u001B[0;32m/Library/Frameworks/Python.framework/Versions/3.9/lib/python3.9/site-packages/keras/engine/input_spec.py\u001B[0m in \u001B[0;36massert_input_compatibility\u001B[0;34m(input_spec, inputs, layer_name)\u001B[0m\n\u001B[1;32m    211\u001B[0m       \u001B[0mndim\u001B[0m \u001B[0;34m=\u001B[0m \u001B[0mshape\u001B[0m\u001B[0;34m.\u001B[0m\u001B[0mrank\u001B[0m\u001B[0;34m\u001B[0m\u001B[0;34m\u001B[0m\u001B[0m\n\u001B[1;32m    212\u001B[0m       \u001B[0;32mif\u001B[0m \u001B[0mndim\u001B[0m \u001B[0;34m!=\u001B[0m \u001B[0mspec\u001B[0m\u001B[0;34m.\u001B[0m\u001B[0mndim\u001B[0m\u001B[0;34m:\u001B[0m\u001B[0;34m\u001B[0m\u001B[0;34m\u001B[0m\u001B[0m\n\u001B[0;32m--> 213\u001B[0;31m         raise ValueError(f'Input {input_index} of layer \"{layer_name}\" '\n\u001B[0m\u001B[1;32m    214\u001B[0m                          \u001B[0;34m'is incompatible with the layer: '\u001B[0m\u001B[0;34m\u001B[0m\u001B[0;34m\u001B[0m\u001B[0m\n\u001B[1;32m    215\u001B[0m                          \u001B[0;34mf'expected ndim={spec.ndim}, found ndim={ndim}. '\u001B[0m\u001B[0;34m\u001B[0m\u001B[0;34m\u001B[0m\u001B[0m\n",
      "\u001B[0;31mValueError\u001B[0m: Input 0 of layer \"max_pooling2d_6\" is incompatible with the layer: expected ndim=4, found ndim=5. Full shape received: (None, 32, 32, 3, 32)"
     ]
    }
   ],
   "source": [
    "model2 = tf.keras.Sequential([\n",
    "    tf.keras.layers.Conv2D(filters=32,\n",
    "                           kernel_size=(3, 3),\n",
    "                           padding='same',\n",
    "                           activation='relu',\n",
    "                           input_shape=x_train.shape[1:] + (1,)),\n",
    "    tf.keras.layers.MaxPooling2D(pool_size=(2, 2)),\n",
    "    tf.keras.layers.BatchNormalization(),\n",
    "\n",
    "    tf.keras.layers.Conv2D(filters=64,\n",
    "                           kernel_size=(3, 3),\n",
    "                           padding='same',\n",
    "                           activation='relu'),\n",
    "    tf.keras.layers.MaxPooling2D(pool_size=(2, 2)),\n",
    "    tf.keras.layers.BatchNormalization(),\n",
    "\n",
    "    tf.keras.layers.Conv2D(filters=128,\n",
    "                           kernel_size=(3, 3),\n",
    "                           padding='same',\n",
    "                           activation='relu'),\n",
    "    tf.keras.layers.MaxPooling2D(pool_size=(2, 2)),\n",
    "    tf.keras.layers.BatchNormalization(),\n",
    "\n",
    "    tf.keras.layers.Flatten(),\n",
    "    tf.keras.layers.Dense(64, activation='relu'),\n",
    "    tf.keras.layers.Dropout(0.2),\n",
    "    tf.keras.layers.Dense(32, activation='relu'),\n",
    "    tf.keras.layers.Dropout(0.2),\n",
    "    tf.keras.layers.Dense(target_depth, activation='softmax')\n",
    "])"
   ],
   "metadata": {
    "collapsed": false,
    "pycharm": {
     "name": "#%%\n"
    }
   }
  },
  {
   "cell_type": "code",
   "execution_count": null,
   "outputs": [],
   "source": [
    "%%time\n",
    "model2.compile(optimizer=tf.keras.optimizers.Adam(),\n",
    "               loss=tf.keras.losses.categorical_crossentropy,\n",
    "               metrics=tf.keras.metrics.CategoricalAccuracy())\n",
    "\n",
    "history2 = model2.fit(x_train, y_train_ohe,\n",
    "                      batch_size=64,\n",
    "                      epochs=5,\n",
    "                      validation_data=(x_val, y_val_ohe),\n",
    "                      callbacks=callbacks_list)"
   ],
   "metadata": {
    "collapsed": false,
    "pycharm": {
     "name": "#%%\n"
    }
   }
  },
  {
   "cell_type": "code",
   "execution_count": 72,
   "id": "93de5fac",
   "metadata": {},
   "outputs": [
    {
     "ename": "NameError",
     "evalue": "name 'history2' is not defined",
     "output_type": "error",
     "traceback": [
      "\u001B[0;31m---------------------------------------------------------------------------\u001B[0m",
      "\u001B[0;31mNameError\u001B[0m                                 Traceback (most recent call last)",
      "\u001B[0;32m/var/folders/r0/ks1cvn550f77ky2bmcmwmbdh0000gn/T/ipykernel_95820/961723042.py\u001B[0m in \u001B[0;36m<module>\u001B[0;34m\u001B[0m\n\u001B[0;32m----> 1\u001B[0;31m \u001B[0mplotModelHistory\u001B[0m\u001B[0;34m(\u001B[0m\u001B[0mhistory2\u001B[0m\u001B[0;34m)\u001B[0m\u001B[0;34m\u001B[0m\u001B[0;34m\u001B[0m\u001B[0m\n\u001B[0m",
      "\u001B[0;31mNameError\u001B[0m: name 'history2' is not defined"
     ]
    }
   ],
   "source": [
    "plotModelHistory(history2)"
   ]
  },
  {
   "cell_type": "markdown",
   "id": "22172dfc",
   "metadata": {},
   "source": [
    "#### Transfer learning "
   ]
  },
  {
   "cell_type": "markdown",
   "id": "41e16878",
   "metadata": {},
   "source": [
    "https://tfhub.dev/ "
   ]
  },
  {
   "cell_type": "code",
   "execution_count": 35,
   "id": "fab88c32",
   "metadata": {},
   "outputs": [],
   "source": [
    "model_url = 'https://tfhub.dev/google/imagenet/resnet_v2_50/feature_vector/5'"
   ]
  },
  {
   "cell_type": "code",
   "execution_count": 48,
   "id": "9ad7675a",
   "metadata": {},
   "outputs": [],
   "source": [
    "def create_model(model_url, num_classes=10, input_shape=None):\n",
    "    \n",
    "    model = tf.keras.Sequential([\n",
    "        hub.KerasLayer(model_url,\n",
    "                       trainable=False,\n",
    "                       input_shape=input_shape),\n",
    "        tf.keras.layers.Dense(num_classes, activation='softmax')\n",
    "    ])\n",
    "\n",
    "    return model"
   ]
  },
  {
   "cell_type": "code",
   "execution_count": 49,
   "id": "039dd34c",
   "metadata": {},
   "outputs": [],
   "source": [
    "transfered_model = create_model(model_url, num_classes=target_depth, input_shape=x_train.shape[1:] + (3,))"
   ]
  },
  {
   "cell_type": "code",
   "execution_count": null,
   "id": "ad6e8e7a",
   "metadata": {},
   "outputs": [],
   "source": [
    "transfered_model.compile(loss='categorical_crossentropy',\n",
    "                     optimizer=tf.keras.optimizers.Adam(),\n",
    "                     metrics=['accuracy'])\n",
    "\n",
    "history_transfered_model = transfered_model.fit(train_data_augmented,\n",
    "                                  epochs=10,\n",
    "                                  validation_data=test_data,\n",
    "                                  callbacks=callbacks_list)"
   ]
  },
  {
   "cell_type": "code",
   "execution_count": null,
   "id": "7aa2b766",
   "metadata": {},
   "outputs": [],
   "source": []
  },
  {
   "cell_type": "code",
   "execution_count": null,
   "id": "11881cf6",
   "metadata": {},
   "outputs": [],
   "source": []
  },
  {
   "cell_type": "code",
   "execution_count": null,
   "id": "7b829dac",
   "metadata": {},
   "outputs": [],
   "source": []
  },
  {
   "cell_type": "code",
   "execution_count": null,
   "id": "b3ea60fb",
   "metadata": {},
   "outputs": [],
   "source": []
  },
  {
   "cell_type": "code",
   "execution_count": null,
   "id": "ed8bdf38",
   "metadata": {},
   "outputs": [],
   "source": []
  },
  {
   "cell_type": "code",
   "execution_count": null,
   "id": "7bc4b90d",
   "metadata": {},
   "outputs": [],
   "source": []
  },
  {
   "cell_type": "code",
   "execution_count": null,
   "id": "51e0eaaa",
   "metadata": {},
   "outputs": [],
   "source": []
  },
  {
   "cell_type": "code",
   "execution_count": null,
   "id": "87e055a1",
   "metadata": {},
   "outputs": [],
   "source": []
  }
 ],
 "metadata": {
  "kernelspec": {
   "display_name": "Python 3 (ipykernel)",
   "language": "python",
   "name": "python3"
  },
  "language_info": {
   "codemirror_mode": {
    "name": "ipython",
    "version": 3
   },
   "file_extension": ".py",
   "mimetype": "text/x-python",
   "name": "python",
   "nbconvert_exporter": "python",
   "pygments_lexer": "ipython3",
   "version": "3.8.5"
  }
 },
 "nbformat": 4,
 "nbformat_minor": 5
}