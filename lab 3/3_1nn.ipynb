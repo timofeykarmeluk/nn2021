{
 "cells": [
  {
   "cell_type": "code",
   "execution_count": 1,
   "metadata": {
    "collapsed": true
   },
   "outputs": [
    {
     "name": "stdout",
     "output_type": "stream",
     "text": [
      "Downloading data from https://storage.googleapis.com/tensorflow/tf-keras-datasets/train-labels-idx1-ubyte.gz\n",
      "32768/29515 [=================================] - 0s 1us/step\n",
      "40960/29515 [=========================================] - 0s 1us/step\n",
      "Downloading data from https://storage.googleapis.com/tensorflow/tf-keras-datasets/train-images-idx3-ubyte.gz\n",
      "26427392/26421880 [==============================] - 12s 0us/step\n",
      "26435584/26421880 [==============================] - 12s 0us/step\n",
      "Downloading data from https://storage.googleapis.com/tensorflow/tf-keras-datasets/t10k-labels-idx1-ubyte.gz\n",
      "16384/5148 [===============================================================================================] - 0s 0us/step\n",
      "Downloading data from https://storage.googleapis.com/tensorflow/tf-keras-datasets/t10k-images-idx3-ubyte.gz\n",
      "4423680/4422102 [==============================] - 2s 0us/step\n",
      "4431872/4422102 [==============================] - 2s 0us/step\n"
     ]
    }
   ],
   "source": [
    "import tensorflow as tf\n",
    "from tensorflow.keras.datasets import fashion_mnist\n",
    "\n",
    "(train_data, train_labels), (test_data, test_labels) = fashion_mnist.load_data()"
   ]
  },
  {
   "cell_type": "code",
   "execution_count": 4,
   "outputs": [
    {
     "data": {
      "text/plain": "<Figure size 432x288 with 1 Axes>",
      "image/png": "[encoded data removed]"
     },
     "metadata": {
      "needs_background": "light"
     },
     "output_type": "display_data"
    }
   ],
   "source": [
    "import matplotlib.pyplot as plt\n",
    "plt.imshow(train_data[5]);"
   ],
   "metadata": {
    "collapsed": false,
    "pycharm": {
     "name": "#%%\n"
    }
   }
  },
  {
   "cell_type": "code",
   "execution_count": 5,
   "outputs": [
    {
     "data": {
      "text/plain": "10"
     },
     "execution_count": 5,
     "metadata": {},
     "output_type": "execute_result"
    }
   ],
   "source": [
    "class_names = ['T-shirt/top', 'Trouser', 'Pullover', 'Dress', 'Coat',\n",
    "               'Sandal', 'Shirt', 'Sneaker', 'Bag', 'Ankle boot']\n",
    "\n",
    "len(class_names)"
   ],
   "metadata": {
    "collapsed": false,
    "pycharm": {
     "name": "#%%\n"
    }
   }
  },
  {
   "cell_type": "code",
   "execution_count": 6,
   "outputs": [
    {
     "data": {
      "text/plain": "<Figure size 432x288 with 1 Axes>",
      "image/png": "[encoded data removed]"
     },
     "metadata": {
      "needs_background": "light"
     },
     "output_type": "display_data"
    }
   ],
   "source": [
    "plt.imshow(train_data[5], cmap=plt.cm.binary)\n",
    "plt.title(class_names[train_labels[5]]);"
   ],
   "metadata": {
    "collapsed": false,
    "pycharm": {
     "name": "#%%\n"
    }
   }
  },
  {
   "cell_type": "code",
   "execution_count": 19,
   "outputs": [
    {
     "data": {
      "text/plain": "<Figure size 504x504 with 8 Axes>",
      "image/png": "[encoded data removed]"
     },
     "metadata": {
      "needs_background": "light"
     },
     "output_type": "display_data"
    }
   ],
   "source": [
    "import random\n",
    "random.seed(10)\n",
    "plt.figure(figsize=(7, 7))\n",
    "\n",
    "data = [5,8,2]\n",
    "data_names = {5:'Sandal', 8:'Bag', 2:'Pullover'}\n",
    "\n",
    "for i in range(8):\n",
    "    ax = plt.subplot(2, 4, i + 1)\n",
    "    rand_index = random.choice(data)\n",
    "    plt.imshow(train_data[rand_index], cmap=plt.cm.binary)\n",
    "    plt.title(class_names[train_labels[rand_index]])\n",
    "    plt.axis(False)"
   ],
   "metadata": {
    "collapsed": false,
    "pycharm": {
     "name": "#%%\n"
    }
   }
  },
  {
   "cell_type": "code",
   "execution_count": 21,
   "outputs": [
    {
     "name": "stdout",
     "output_type": "stream",
     "text": [
      "Epoch 1/10\n",
      "563/563 [==============================] - 1s 1ms/step - loss: 1.7072 - accuracy: 0.5643 - val_loss: 1.0980 - val_accuracy: 0.6513\n",
      "Epoch 2/10\n",
      "563/563 [==============================] - 1s 1ms/step - loss: 0.8803 - accuracy: 0.6525 - val_loss: 0.7380 - val_accuracy: 0.6523\n",
      "Epoch 3/10\n",
      "563/563 [==============================] - 1s 1ms/step - loss: 0.6426 - accuracy: 0.6563 - val_loss: 0.5998 - val_accuracy: 0.6570\n",
      "Epoch 4/10\n",
      "563/563 [==============================] - 1s 1ms/step - loss: 0.5605 - accuracy: 0.6601 - val_loss: 0.5541 - val_accuracy: 0.6620\n",
      "Epoch 5/10\n",
      "563/563 [==============================] - 1s 2ms/step - loss: 0.5285 - accuracy: 0.6676 - val_loss: 0.5330 - val_accuracy: 0.6640\n",
      "Epoch 6/10\n",
      "563/563 [==============================] - 1s 1ms/step - loss: 0.5119 - accuracy: 0.6666 - val_loss: 0.5249 - val_accuracy: 0.6587\n",
      "Epoch 7/10\n",
      "563/563 [==============================] - 0s 754us/step - loss: 0.5025 - accuracy: 0.6635 - val_loss: 0.5186 - val_accuracy: 0.6683\n",
      "Epoch 8/10\n",
      "563/563 [==============================] - 0s 750us/step - loss: 0.4968 - accuracy: 0.6619 - val_loss: 0.5242 - val_accuracy: 0.6750\n",
      "Epoch 9/10\n",
      "563/563 [==============================] - 0s 714us/step - loss: 0.4945 - accuracy: 0.6608 - val_loss: 0.5173 - val_accuracy: 0.6600\n",
      "Epoch 10/10\n",
      "563/563 [==============================] - 1s 928us/step - loss: 0.4890 - accuracy: 0.6634 - val_loss: 0.5177 - val_accuracy: 0.6637\n"
     ]
    }
   ],
   "source": [
    "import numpy as np\n",
    "x_train = train_data[np.where(np.in1d(train_labels, data))]\n",
    "y_train = train_labels[np.where(np.in1d(train_labels, data))]\n",
    "x_test = test_data[np.where(np.in1d(test_labels, data))]\n",
    "y_test = test_labels[np.where(np.in1d(test_labels, data))]\n",
    "\n",
    "tf.random.set_seed(42)\n",
    "\n",
    "model_11 = tf.keras.Sequential([\n",
    "  tf.keras.layers.Flatten(input_shape=(28, 28)),\n",
    "  tf.keras.layers.Dense(4, activation=\"relu\"),\n",
    "  tf.keras.layers.Dense(4, activation=\"relu\"),\n",
    "  tf.keras.layers.Dense(10, activation=\"softmax\")\n",
    "])\n",
    "\n",
    "model_11.compile(loss=tf.keras.losses.SparseCategoricalCrossentropy(),\n",
    "                 optimizer=tf.keras.optimizers.Adam(),\n",
    "                 metrics=[\"accuracy\"])\n",
    "\n",
    "non_norm_history = model_11.fit(x_train,\n",
    "                                y_train,\n",
    "                                epochs=10,\n",
    "                                validation_data=(x_test, y_test))"
   ],
   "metadata": {
    "collapsed": false,
    "pycharm": {
     "name": "#%%\n"
    }
   }
  },
  {
   "cell_type": "code",
   "execution_count": 22,
   "outputs": [
    {
     "name": "stdout",
     "output_type": "stream",
     "text": [
      "Model: \"sequential_1\"\n",
      "_________________________________________________________________\n",
      " Layer (type)                Output Shape              Param #   \n",
      "=================================================================\n",
      " flatten_1 (Flatten)         (None, 784)               0         \n",
      "                                                                 \n",
      " dense_3 (Dense)             (None, 4)                 3140      \n",
      "                                                                 \n",
      " dense_4 (Dense)             (None, 4)                 20        \n",
      "                                                                 \n",
      " dense_5 (Dense)             (None, 10)                50        \n",
      "                                                                 \n",
      "=================================================================\n",
      "Total params: 3,210\n",
      "Trainable params: 3,210\n",
      "Non-trainable params: 0\n",
      "_________________________________________________________________\n"
     ]
    }
   ],
   "source": [
    "model_11.summary()"
   ],
   "metadata": {
    "collapsed": false,
    "pycharm": {
     "name": "#%%\n"
    }
   }
  },
  {
   "cell_type": "code",
   "execution_count": 23,
   "outputs": [
    {
     "data": {
      "text/plain": "(0, 255)"
     },
     "execution_count": 23,
     "metadata": {},
     "output_type": "execute_result"
    }
   ],
   "source": [
    "x_train.min(), x_train.max()"
   ],
   "metadata": {
    "collapsed": false,
    "pycharm": {
     "name": "#%%\n"
    }
   }
  },
  {
   "cell_type": "code",
   "execution_count": 24,
   "outputs": [
    {
     "data": {
      "text/plain": "(0.0, 1.0)"
     },
     "execution_count": 24,
     "metadata": {},
     "output_type": "execute_result"
    }
   ],
   "source": [
    "x_train_norm = x_train / 255.0\n",
    "x_test_norm = x_test / 255.0\n",
    "\n",
    "x_train_norm.min(), x_train_norm.max()"
   ],
   "metadata": {
    "collapsed": false,
    "pycharm": {
     "name": "#%%\n"
    }
   }
  },
  {
   "cell_type": "code",
   "execution_count": 25,
   "outputs": [
    {
     "name": "stdout",
     "output_type": "stream",
     "text": [
      "Epoch 1/10\n",
      "563/563 [==============================] - 1s 2ms/step - loss: 0.5312 - accuracy: 0.8410 - val_loss: 0.0934 - val_accuracy: 0.9800\n",
      "Epoch 2/10\n",
      "563/563 [==============================] - 1s 1ms/step - loss: 0.0789 - accuracy: 0.9813 - val_loss: 0.0622 - val_accuracy: 0.9830\n",
      "Epoch 3/10\n",
      "563/563 [==============================] - 1s 1ms/step - loss: 0.0571 - accuracy: 0.9851 - val_loss: 0.0544 - val_accuracy: 0.9850\n",
      "Epoch 4/10\n",
      "563/563 [==============================] - 1s 1ms/step - loss: 0.0492 - accuracy: 0.9865 - val_loss: 0.0460 - val_accuracy: 0.9860\n",
      "Epoch 5/10\n",
      "563/563 [==============================] - 1s 1ms/step - loss: 0.0433 - accuracy: 0.9873 - val_loss: 0.0458 - val_accuracy: 0.9873\n",
      "Epoch 6/10\n",
      "563/563 [==============================] - 1s 1ms/step - loss: 0.0373 - accuracy: 0.9888 - val_loss: 0.0448 - val_accuracy: 0.9877\n",
      "Epoch 7/10\n",
      "563/563 [==============================] - 1s 2ms/step - loss: 0.0352 - accuracy: 0.9887 - val_loss: 0.0408 - val_accuracy: 0.9877\n",
      "Epoch 8/10\n",
      "563/563 [==============================] - 1s 1ms/step - loss: 0.0315 - accuracy: 0.9894 - val_loss: 0.0395 - val_accuracy: 0.9887\n",
      "Epoch 9/10\n",
      "563/563 [==============================] - 0s 782us/step - loss: 0.0300 - accuracy: 0.9894 - val_loss: 0.0397 - val_accuracy: 0.9870\n",
      "Epoch 10/10\n",
      "563/563 [==============================] - 1s 1ms/step - loss: 0.0274 - accuracy: 0.9910 - val_loss: 0.0385 - val_accuracy: 0.9887\n"
     ]
    }
   ],
   "source": [
    "tf.random.set_seed(42)\n",
    "\n",
    "model_12 = tf.keras.Sequential([\n",
    "  tf.keras.layers.Flatten(input_shape=(28, 28)),\n",
    "  tf.keras.layers.Dense(4, activation=\"relu\"),\n",
    "  tf.keras.layers.Dense(4, activation=\"relu\"),\n",
    "  tf.keras.layers.Dense(10, activation=\"softmax\")\n",
    "])\n",
    "\n",
    "model_12.compile(loss=tf.keras.losses.SparseCategoricalCrossentropy(),\n",
    "                 optimizer=tf.keras.optimizers.Adam(),\n",
    "                 metrics=[\"accuracy\"])\n",
    "\n",
    "norm_history = model_12.fit(x_train_norm,\n",
    "                            y_train,\n",
    "                            epochs=10,\n",
    "                            validation_data=(x_test_norm, y_test))"
   ],
   "metadata": {
    "collapsed": false,
    "pycharm": {
     "name": "#%%\n"
    }
   }
  },
  {
   "cell_type": "code",
   "execution_count": 26,
   "outputs": [
    {
     "data": {
      "text/plain": "<Figure size 432x288 with 1 Axes>",
      "image/png": "[encoded data removed]"
     },
     "metadata": {
      "needs_background": "light"
     },
     "output_type": "display_data"
    },
    {
     "data": {
      "text/plain": "<Figure size 432x288 with 1 Axes>",
      "image/png": "[encoded data removed]"
     },
     "metadata": {
      "needs_background": "light"
     },
     "output_type": "display_data"
    }
   ],
   "source": [
    "import pandas as pd\n",
    "\n",
    "pd.DataFrame(non_norm_history.history).plot(title=\"Non-normalized Data\")\n",
    "\n",
    "pd.DataFrame(norm_history.history).plot(title=\"Normalized data\");"
   ],
   "metadata": {
    "collapsed": false,
    "pycharm": {
     "name": "#%%\n"
    }
   }
  },
  {
   "cell_type": "code",
   "execution_count": 27,
   "outputs": [
    {
     "name": "stdout",
     "output_type": "stream",
     "text": [
      "Epoch 1/20\n",
      "563/563 [==============================] - 2s 2ms/step - loss: 0.5312 - accuracy: 0.8410 - val_loss: 0.0934 - val_accuracy: 0.9800 - lr: 0.0010\n",
      "Epoch 2/20\n",
      "563/563 [==============================] - 1s 2ms/step - loss: 0.0785 - accuracy: 0.9814 - val_loss: 0.0611 - val_accuracy: 0.9830 - lr: 0.0011\n",
      "Epoch 3/20\n",
      "563/563 [==============================] - 1s 1ms/step - loss: 0.0564 - accuracy: 0.9854 - val_loss: 0.0530 - val_accuracy: 0.9837 - lr: 0.0013\n",
      "Epoch 4/20\n",
      "563/563 [==============================] - 1s 1ms/step - loss: 0.0480 - accuracy: 0.9862 - val_loss: 0.0452 - val_accuracy: 0.9877 - lr: 0.0014\n",
      "Epoch 5/20\n",
      "563/563 [==============================] - 1s 1ms/step - loss: 0.0422 - accuracy: 0.9872 - val_loss: 0.0463 - val_accuracy: 0.9867 - lr: 0.0016\n",
      "Epoch 6/20\n",
      "563/563 [==============================] - 1s 991us/step - loss: 0.0360 - accuracy: 0.9889 - val_loss: 0.0448 - val_accuracy: 0.9880 - lr: 0.0018\n",
      "Epoch 7/20\n",
      "563/563 [==============================] - 0s 767us/step - loss: 0.0362 - accuracy: 0.9873 - val_loss: 0.0417 - val_accuracy: 0.9887 - lr: 0.0020\n",
      "Epoch 8/20\n",
      "563/563 [==============================] - 0s 751us/step - loss: 0.0299 - accuracy: 0.9901 - val_loss: 0.0411 - val_accuracy: 0.9873 - lr: 0.0022\n",
      "Epoch 9/20\n",
      "563/563 [==============================] - 1s 1ms/step - loss: 0.0307 - accuracy: 0.9893 - val_loss: 0.0409 - val_accuracy: 0.9883 - lr: 0.0025\n",
      "Epoch 10/20\n",
      "563/563 [==============================] - 0s 727us/step - loss: 0.0278 - accuracy: 0.9899 - val_loss: 0.0426 - val_accuracy: 0.9873 - lr: 0.0028\n",
      "Epoch 11/20\n",
      "563/563 [==============================] - 1s 971us/step - loss: 0.0300 - accuracy: 0.9888 - val_loss: 0.0404 - val_accuracy: 0.9880 - lr: 0.0032\n",
      "Epoch 12/20\n",
      "563/563 [==============================] - 1s 2ms/step - loss: 0.0271 - accuracy: 0.9897 - val_loss: 0.0488 - val_accuracy: 0.9827 - lr: 0.0035\n",
      "Epoch 13/20\n",
      "563/563 [==============================] - 1s 1ms/step - loss: 0.0248 - accuracy: 0.9914 - val_loss: 0.0444 - val_accuracy: 0.9857 - lr: 0.0040\n",
      "Epoch 14/20\n",
      "563/563 [==============================] - 0s 841us/step - loss: 0.0250 - accuracy: 0.9911 - val_loss: 0.0591 - val_accuracy: 0.9823 - lr: 0.0045\n",
      "Epoch 15/20\n",
      "563/563 [==============================] - 0s 867us/step - loss: 0.0261 - accuracy: 0.9914 - val_loss: 0.0545 - val_accuracy: 0.9850 - lr: 0.0050\n",
      "Epoch 16/20\n",
      "563/563 [==============================] - 0s 771us/step - loss: 0.0270 - accuracy: 0.9905 - val_loss: 0.0424 - val_accuracy: 0.9860 - lr: 0.0056\n",
      "Epoch 17/20\n",
      "563/563 [==============================] - 0s 778us/step - loss: 0.0296 - accuracy: 0.9903 - val_loss: 0.0450 - val_accuracy: 0.9870 - lr: 0.0063\n",
      "Epoch 18/20\n",
      "563/563 [==============================] - 0s 740us/step - loss: 0.0276 - accuracy: 0.9897 - val_loss: 0.0522 - val_accuracy: 0.9870 - lr: 0.0071\n",
      "Epoch 19/20\n",
      "563/563 [==============================] - 0s 754us/step - loss: 0.0306 - accuracy: 0.9896 - val_loss: 0.0586 - val_accuracy: 0.9823 - lr: 0.0079\n",
      "Epoch 20/20\n",
      "563/563 [==============================] - 0s 836us/step - loss: 0.0283 - accuracy: 0.9908 - val_loss: 0.0802 - val_accuracy: 0.9793 - lr: 0.0089\n"
     ]
    }
   ],
   "source": [
    "tf.random.set_seed(42)\n",
    "\n",
    "model_13 = tf.keras.Sequential([\n",
    "  tf.keras.layers.Flatten(input_shape=(28, 28)),\n",
    "  tf.keras.layers.Dense(4, activation=\"relu\"),\n",
    "  tf.keras.layers.Dense(4, activation=\"relu\"),\n",
    "  tf.keras.layers.Dense(10, activation=\"softmax\")\n",
    "])\n",
    "\n",
    "model_13.compile(loss=tf.keras.losses.SparseCategoricalCrossentropy(),\n",
    "                 optimizer=tf.keras.optimizers.Adam(),\n",
    "                 metrics=[\"accuracy\"])\n",
    "\n",
    "lr_scheduler = tf.keras.callbacks.LearningRateScheduler(lambda epoch: 1e-3 * 10**(epoch/20))\n",
    "\n",
    "find_lr_history = model_13.fit(x_train_norm,\n",
    "                               y_train,\n",
    "                               epochs=20,\n",
    "                               validation_data=(x_test_norm, y_test),\n",
    "                               callbacks=[lr_scheduler])"
   ],
   "metadata": {
    "collapsed": false,
    "pycharm": {
     "name": "#%%\n"
    }
   }
  },
  {
   "cell_type": "code",
   "execution_count": 30,
   "outputs": [
    {
     "data": {
      "text/plain": "<Figure size 432x288 with 1 Axes>",
      "image/png": "[encoded data removed]"
     },
     "metadata": {
      "needs_background": "light"
     },
     "output_type": "display_data"
    }
   ],
   "source": [
    "import numpy as np\n",
    "import matplotlib.pyplot as plt\n",
    "lrs = 1e-3 * (10**(np.arange(20)/10))\n",
    "plt.semilogx(lrs, find_lr_history.history[\"loss\"])\n",
    "plt.xlabel(\"Learning rate\")\n",
    "plt.ylabel(\"Loss\")\n",
    "plt.title(\"Finding the ideal learning rate\");"
   ],
   "metadata": {
    "collapsed": false,
    "pycharm": {
     "name": "#%%\n"
    }
   }
  },
  {
   "cell_type": "code",
   "execution_count": 36,
   "outputs": [
    {
     "name": "stdout",
     "output_type": "stream",
     "text": [
      "Epoch 1/20\n",
      "563/563 [==============================] - 1s 1ms/step - loss: 0.5312 - accuracy: 0.8410 - val_loss: 0.0934 - val_accuracy: 0.9800\n",
      "Epoch 2/20\n",
      "563/563 [==============================] - 1s 1ms/step - loss: 0.0789 - accuracy: 0.9813 - val_loss: 0.0622 - val_accuracy: 0.9830\n",
      "Epoch 3/20\n",
      "563/563 [==============================] - 1s 2ms/step - loss: 0.0571 - accuracy: 0.9851 - val_loss: 0.0544 - val_accuracy: 0.9850\n",
      "Epoch 4/20\n",
      "563/563 [==============================] - 1s 2ms/step - loss: 0.0492 - accuracy: 0.9865 - val_loss: 0.0460 - val_accuracy: 0.9860\n",
      "Epoch 5/20\n",
      "563/563 [==============================] - 1s 2ms/step - loss: 0.0433 - accuracy: 0.9873 - val_loss: 0.0458 - val_accuracy: 0.9873\n",
      "Epoch 6/20\n",
      "563/563 [==============================] - 1s 2ms/step - loss: 0.0373 - accuracy: 0.9888 - val_loss: 0.0448 - val_accuracy: 0.9877\n",
      "Epoch 7/20\n",
      "563/563 [==============================] - 1s 2ms/step - loss: 0.0352 - accuracy: 0.9887 - val_loss: 0.0408 - val_accuracy: 0.9877\n",
      "Epoch 8/20\n",
      "563/563 [==============================] - 0s 731us/step - loss: 0.0315 - accuracy: 0.9894 - val_loss: 0.0395 - val_accuracy: 0.9887\n",
      "Epoch 9/20\n",
      "563/563 [==============================] - 0s 712us/step - loss: 0.0300 - accuracy: 0.9894 - val_loss: 0.0397 - val_accuracy: 0.9870\n",
      "Epoch 10/20\n",
      "563/563 [==============================] - 0s 710us/step - loss: 0.0274 - accuracy: 0.9910 - val_loss: 0.0385 - val_accuracy: 0.9887\n",
      "Epoch 11/20\n",
      "563/563 [==============================] - 0s 709us/step - loss: 0.0254 - accuracy: 0.9905 - val_loss: 0.0399 - val_accuracy: 0.9863\n",
      "Epoch 12/20\n",
      "563/563 [==============================] - 1s 896us/step - loss: 0.0246 - accuracy: 0.9914 - val_loss: 0.0492 - val_accuracy: 0.9830\n",
      "Epoch 13/20\n",
      "563/563 [==============================] - 0s 844us/step - loss: 0.0229 - accuracy: 0.9915 - val_loss: 0.0400 - val_accuracy: 0.9893\n",
      "Epoch 14/20\n",
      "563/563 [==============================] - 0s 715us/step - loss: 0.0211 - accuracy: 0.9925 - val_loss: 0.0410 - val_accuracy: 0.9863\n",
      "Epoch 15/20\n",
      "563/563 [==============================] - 0s 758us/step - loss: 0.0200 - accuracy: 0.9922 - val_loss: 0.0479 - val_accuracy: 0.9857\n",
      "Epoch 16/20\n",
      "563/563 [==============================] - 1s 1ms/step - loss: 0.0201 - accuracy: 0.9924 - val_loss: 0.0394 - val_accuracy: 0.9883\n",
      "Epoch 17/20\n",
      "563/563 [==============================] - 1s 2ms/step - loss: 0.0169 - accuracy: 0.9946 - val_loss: 0.0420 - val_accuracy: 0.9870\n",
      "Epoch 18/20\n",
      "563/563 [==============================] - 1s 2ms/step - loss: 0.0166 - accuracy: 0.9943 - val_loss: 0.0432 - val_accuracy: 0.9883\n",
      "Epoch 19/20\n",
      "563/563 [==============================] - 1s 2ms/step - loss: 0.0162 - accuracy: 0.9937 - val_loss: 0.0510 - val_accuracy: 0.9820\n",
      "Epoch 20/20\n",
      "563/563 [==============================] - 0s 774us/step - loss: 0.0152 - accuracy: 0.9950 - val_loss: 0.0429 - val_accuracy: 0.9873\n"
     ]
    }
   ],
   "source": [
    "find_lr_history_df = pd.DataFrame(find_lr_history.history)\n",
    "optimal_lr = find_lr_history_df.loc[find_lr_history_df['loss'].idxmin()]['lr']\n",
    "\n",
    "tf.random.set_seed(42)\n",
    "\n",
    "model_14 = tf.keras.Sequential([\n",
    "  tf.keras.layers.Flatten(input_shape=(28, 28)),\n",
    "  tf.keras.layers.Dense(4, activation=\"relu\"),\n",
    "  tf.keras.layers.Dense(4, activation=\"relu\"),\n",
    "  tf.keras.layers.Dense(10, activation=\"softmax\")\n",
    "])\n",
    "\n",
    "\n",
    "model_14.compile(loss=tf.keras.losses.SparseCategoricalCrossentropy(),\n",
    "                 optimizer=tf.keras.optimizers.Adam(learning_rate=0.001),\n",
    "                 metrics=[\"accuracy\"])\n",
    "\n",
    "history = model_14.fit(x_train_norm,\n",
    "                        y_train,\n",
    "                       epochs=20,\n",
    "                       validation_data=(x_test_norm, y_test))"
   ],
   "metadata": {
    "collapsed": false,
    "pycharm": {
     "name": "#%%\n"
    }
   }
  },
  {
   "cell_type": "code",
   "execution_count": 37,
   "outputs": [
    {
     "data": {
      "text/plain": "<Figure size 432x288 with 1 Axes>",
      "image/png": "[encoded data removed]"
     },
     "metadata": {
      "needs_background": "light"
     },
     "output_type": "display_data"
    }
   ],
   "source": [
    "pd.DataFrame(history.history).plot(title=\"The best parameters for the model\")\n",
    "y_pred = model_14.predict(x_test_norm)"
   ],
   "metadata": {
    "collapsed": false,
    "pycharm": {
     "name": "#%%\n"
    }
   }
  },
  {
   "cell_type": "code",
   "execution_count": 38,
   "outputs": [
    {
     "data": {
      "text/plain": "array([[990,   1,   9],\n       [  1, 995,   4],\n       [ 12,  11, 977]])"
     },
     "execution_count": 38,
     "metadata": {},
     "output_type": "execute_result"
    }
   ],
   "source": [
    "from sklearn.metrics import confusion_matrix\n",
    "\n",
    "y_pred_res = []\n",
    "for elem in y_pred: y_pred_res.append(elem.argmax())\n",
    "confusion_matrix(y_test, y_pred_res)"
   ],
   "metadata": {
    "collapsed": false,
    "pycharm": {
     "name": "#%%\n"
    }
   }
  }
 ],
 "metadata": {
  "kernelspec": {
   "display_name": "Python 3",
   "language": "python",
   "name": "python3"
  },
  "language_info": {
   "codemirror_mode": {
    "name": "ipython",
    "version": 2
   },
   "file_extension": ".py",
   "mimetype": "text/x-python",
   "name": "python",
   "nbconvert_exporter": "python",
   "pygments_lexer": "ipython2",
   "version": "2.7.6"
  }
 },
 "nbformat": 4,
 "nbformat_minor": 0
}